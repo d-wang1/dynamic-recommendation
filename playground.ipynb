{
 "cells": [
  {
   "cell_type": "code",
   "execution_count": 1,
   "id": "257e4932-da98-473f-8787-e3ecf24846a2",
   "metadata": {},
   "outputs": [],
   "source": [
    "from data.helper import *"
   ]
  },
  {
   "cell_type": "code",
   "execution_count": 72,
   "id": "dbfd9e8d",
   "metadata": {},
   "outputs": [
    {
     "name": "stderr",
     "output_type": "stream",
     "text": [
      "G:\\AppData\\Anaconda\\lib\\site-packages\\scipy\\__init__.py:146: UserWarning: A NumPy version >=1.16.5 and <1.23.0 is required for this version of SciPy (detected version 1.26.4\n",
      "  warnings.warn(f\"A NumPy version >={np_minversion} and <{np_maxversion}\"\n"
     ]
    }
   ],
   "source": [
    "import torch, random\n",
    "from torch.utils.data import Dataset, DataLoader\n",
    "import pytorch_lightning as pl"
   ]
  },
  {
   "cell_type": "code",
   "execution_count": 73,
   "id": "b4610a98",
   "metadata": {},
   "outputs": [],
   "source": [
    "class ColdStartDataset(Dataset):\n",
    "    def __init__(self, ratings_df, demog_tensor, k=3):\n",
    "        self.k = k\n",
    "        self.demog = demog_tensor           # (n_users, 4)\n",
    "        # User rating history\n",
    "        self.user_hist = ratings_df.groupby(\"uid\").apply(\n",
    "            lambda df: list(zip(df.mid.values, df.rating.values))\n",
    "        ).to_dict()\n",
    "        self.users = list(self.user_hist.keys())\n",
    "\n",
    "    def __len__(self): return len(self.users)\n",
    "\n",
    "    def __getitem__(self, idx):\n",
    "        uid = self.users[idx]\n",
    "        # All the ratings that the users ever gave, in history\n",
    "        hist = self.user_hist[uid]\n",
    "        random.shuffle(hist)\n",
    "        # Support set for k-shot predictions\n",
    "        supp = hist[: self.k]\n",
    "        # The remainder for predictions / loss\n",
    "        query = hist[self.k :]              # at least 1 because ML‑1M is dense\n",
    "\n",
    "        # tuples → separate lists\n",
    "        supp_m, supp_r = zip(*supp)\n",
    "        q_m, q_r = zip(*query)\n",
    "        return (\n",
    "            uid,\n",
    "            torch.tensor(self.demog[uid]),\n",
    "            torch.tensor(supp_m, dtype=torch.long),\n",
    "            torch.tensor(supp_r, dtype=torch.float),\n",
    "            torch.tensor(q_m, dtype=torch.long),\n",
    "            torch.tensor(q_r, dtype=torch.float),\n",
    "        )\n",
    "\n",
    "\n",
    "class ML1MDataModule(pl.LightningDataModule):\n",
    "    def __init__(self, train_df, val_df, demog, batch_size=256, k=3):\n",
    "        super().__init__()\n",
    "        self.train = ColdStartDataset(train_df, demog, k)\n",
    "        self.val   = ColdStartDataset(val_df,   demog, k)\n",
    "        self.bs = batch_size\n",
    "\n",
    "    def collate(self, batch):\n",
    "        # pad support to length k, pad query to length 1 (use first q movie)\n",
    "        uids, demo, s_m, s_r, q_m, q_r = zip(*batch)\n",
    "        max_k = max(len(x) for x in s_m)\n",
    "        pad = lambda lst, fill: [list(x) + [fill]*(max_k-len(x)) for x in lst]\n",
    "        s_m = torch.tensor(pad(s_m, 0))\n",
    "        s_r = torch.tensor(pad(s_r, 3.5))\n",
    "        demo = torch.stack(demo)\n",
    "        q_m  = torch.tensor([x[0] for x in q_m])\n",
    "        q_r  = torch.tensor([x[0] for x in q_r])\n",
    "        return demo, s_m, s_r, q_m, q_r\n",
    "\n",
    "    def train_dataloader(self):\n",
    "        return DataLoader(self.train, self.bs, shuffle=True, collate_fn=self.collate)\n",
    "\n",
    "    def val_dataloader(self):\n",
    "        return DataLoader(self.val, self.bs, shuffle=False, collate_fn=self.collate)"
   ]
  },
  {
   "cell_type": "code",
   "execution_count": null,
   "id": "58ce9206",
   "metadata": {},
   "outputs": [],
   "source": []
  }
 ],
 "metadata": {
  "kernelspec": {
   "display_name": "Python 3 (ipykernel)",
   "language": "python",
   "name": "python3"
  },
  "language_info": {
   "codemirror_mode": {
    "name": "ipython",
    "version": 3
   },
   "file_extension": ".py",
   "mimetype": "text/x-python",
   "name": "python",
   "nbconvert_exporter": "python",
   "pygments_lexer": "ipython3",
   "version": "3.9.12"
  }
 },
 "nbformat": 4,
 "nbformat_minor": 5
}
